{
  "cells": [
    {
      "cell_type": "markdown",
      "source": [
        "#Trabalho Final da Disciplina de\n",
        "\n",
        "Alunos:\n",
        "- ELIKAH DE SANTANA E FRANCA SANTHIAGO\n",
        "- FLÁVIO ROBERTO GUERRA SEABRA\n",
        "- SANDERSON LELIS DE MACEDO COSTA\n"
      ],
      "metadata": {
        "id": "HaRDgXEVnVmi"
      }
    },
    {
      "cell_type": "markdown",
      "source": [
        "Objetivo:\n",
        "Este trabalho teve como objetivo principal desenvolver um modelo preditivo de afastamentos por motivo de saúde analisando padrões e tendências em afastamentos médicos dos servidores do TRE-RN, utilizando um conjunto de dados históricos de 2000 a 2023.\n",
        "\n",
        "Um modelo preditivo pode ser utilizado para:\n",
        "\n",
        "- Identificação precoce de riscos: Identificar servidores com maior probabilidade de necessitar de afastamento, permitindo a implementação de medidas preventivas e programas de bem-estar direcionados.\n",
        "\n",
        "- Alocação otimizada de recursos: Alocar recursos de saúde de forma mais eficiente, direcionando-os para áreas e indivíduos com maior necessidade.\n",
        "\n",
        "- Planejamento de contingência: Prever a demanda por afastamentos em diferentes períodos, permitindo um planejamento de contingência mais eficaz para garantir a continuidade das atividades do TRE-RN."
      ],
      "metadata": {
        "id": "T1wz9gd4xpjW"
      }
    },
    {
      "cell_type": "markdown",
      "source": [
        "##Etapas:\n",
        "\n",
        "1. Coleta de dados:\n",
        "  - Foram coletados dados de 3 fontes:\n",
        "    - Do módulo Afastamentos do sistema SGRH foi coletada um Dataset com uma série com todos os afastamentos por motivo de saúde de 2000 a 2023.\n",
        "      - Um total de 12402 registros de afastamentos por motivo de saúde foram coletados, dos tipos LICENÇA PARA TRATAMENTO DA PRÓPRIA SAÚDE, LICENÇA POR DOENÇA EM PESSOA DA FAMÍLIA, LICENÇA POR ACIDENTE EM SERVIÇO e LICENÇA À GESTANTE.\n",
        "    - Do módulo Gestão do sistema SGRH foram coletados de cada servidor os dados:\n",
        "      - Data de nascimento, da qual foi extraída a informação 'Idade';\n",
        "      - Data da posse, da qual foi extraída a informação 'Tempo de Serviço'\n",
        "      - Sexo declarado: Masculino ou Feminino\n",
        "      - Identidade de gênero: Cisgênero, Transgênero, Transexual, Travesti, Gênero fluido, Agênero, Outra ou Não informado;\n",
        "      - Raça/Cor da pele declarada: Amarela, Branca, Indígena, Parda, Negra, Não informada;\n",
        "      - Se foi aprovado em regime de cotas: Não, Cota étnico-racial, Cota para pessoa com deficiência, Cota para Gênero, Cota para outras ações afirmativas, Não Informado;\n",
        "    - Do portal de Dados Abertos do TRE-RN foi coletado um um Dataset com os seguintes dados de cada servidor:\n",
        "      - Lotação: Sede ou Zonas Eleitorais;\n",
        "      - Nível de escolaridade: Intermediário ou Superior;\n",
        "      - Cargo: 'ANALISTA JUDICIARIO', 'TECNICO JUDICIARIO';\n",
        "      - Área: 'ADMINISTRATIVA', 'APOIO ESPECIALIZADO', 'JUDICIÁRIA'\n",
        "      - Situação: 'REQUISITADO', 'EFETIVO', 'EXERCÍCIO PROVISÓRIO',\n",
        "       'EFETIVO REMOVIDO', 'REMOVIDO PARA ESTE TRIBUNAL',\n",
        "       'SEM VÍNCULO EFETIVO', 'EFETIVO CEDIDO', 'EFETIVO LICENCIADO';\n",
        "      - Comissão: Sim ou Não (se o servidor recebe alguma função comissionada ou não)\n",
        "\n",
        "2. Pré-processamento\n",
        "  - Como não foi possível obter dados dos servidores que não estavam no Dataset extraído do portal dados abertos, os dados de afastamentos destes servidores foram descartados, resultando em um Dataset final com 6106 instâncias.\n",
        "  - Todos os dados de identificação foram removidos\n",
        "  - Os dados de CID foram tratados para permanecer apenas a letra, que é o dado que corresponde a uma classe mais ampla de doenças.\n",
        "  - O procedimento de One-Hot-Encode foi executado para as variáveis:\n",
        "    - 'lotacao', 'nivel', 'cargo', 'area', 'situacao', 'comissao', 'tipo_afastamento', 'CID_letter', 'Sexo', 'id_gen', 'raca_cor', 'defic' e 'cotas'\n",
        "  - Como foi observado que 59% dos afastamentos são de até 2 dias, foi criada uma feature 'Classe' com valor 0 para afastamentos com duração de de até 2 dias e valor 1 para afastamentos com duração a partir de 3 dias.\n",
        "  - O dataframe final foi salvo no arquivo *df_afastamentos_para_Topicos.csv*\n",
        "  \n",
        "\n",
        "\n"
      ],
      "metadata": {
        "id": "b8_XlyBO0j8e"
      }
    },
    {
      "cell_type": "markdown",
      "source": [
        "#Carregar o dataset a partir do arquivo pré-processado df_afastamentos_para_Topicos.csv"
      ],
      "metadata": {
        "id": "FZTwAviIe5UK"
      }
    },
    {
      "cell_type": "code",
      "source": [
        "import pandas as pd\n",
        "df = pd.read_csv('/content/df_afastamentos_para_Topicos.csv')\n",
        "df.head()"
      ],
      "metadata": {
        "colab": {
          "base_uri": "https://localhost:8080/",
          "height": 273
        },
        "id": "CMj2SSuLKO8h",
        "outputId": "6584d30c-4df8-4bf7-b7f4-f310ef0f0fd5"
      },
      "execution_count": 1,
      "outputs": [
        {
          "output_type": "execute_result",
          "data": {
            "text/plain": [
              "   dias_afastamento  idade  tempo_serv  lotacao_sede  lotacao_zona  \\\n",
              "0                 2   46.0        18.0             1             0   \n",
              "1                15   46.0        18.0             1             0   \n",
              "2                 2   46.0        18.0             1             0   \n",
              "3                 2   46.0        18.0             1             0   \n",
              "4                 7   46.0        18.0             1             0   \n",
              "\n",
              "   nivel_INTERMEDIÁRIO  nivel_SUPERIOR  cargo_ANALISTA JUDICIARIO  \\\n",
              "0                    0               1                          1   \n",
              "1                    0               1                          1   \n",
              "2                    0               1                          1   \n",
              "3                    0               1                          1   \n",
              "4                    0               1                          1   \n",
              "\n",
              "   cargo_TECNICO JUDICIARIO  area_ADMINISTRATIVA  ...  raca_cor_5  raca_cor_6  \\\n",
              "0                         0                    1  ...           0           0   \n",
              "1                         0                    1  ...           0           0   \n",
              "2                         0                    1  ...           0           0   \n",
              "3                         0                    1  ...           0           0   \n",
              "4                         0                    1  ...           0           0   \n",
              "\n",
              "   defic_1  defic_2  defic_3  defic_5  defic_8  cotas_1  cotas_3  classe  \n",
              "0        0        0        0        0        1        1        0       0  \n",
              "1        0        0        0        0        1        1        0       1  \n",
              "2        0        0        0        0        1        1        0       0  \n",
              "3        0        0        0        0        1        1        0       0  \n",
              "4        0        0        0        0        1        1        0       1  \n",
              "\n",
              "[5 rows x 65 columns]"
            ],
            "text/html": [
              "\n",
              "  <div id=\"df-bb8c180a-3f21-4650-9fb6-d35b47ed193f\" class=\"colab-df-container\">\n",
              "    <div>\n",
              "<style scoped>\n",
              "    .dataframe tbody tr th:only-of-type {\n",
              "        vertical-align: middle;\n",
              "    }\n",
              "\n",
              "    .dataframe tbody tr th {\n",
              "        vertical-align: top;\n",
              "    }\n",
              "\n",
              "    .dataframe thead th {\n",
              "        text-align: right;\n",
              "    }\n",
              "</style>\n",
              "<table border=\"1\" class=\"dataframe\">\n",
              "  <thead>\n",
              "    <tr style=\"text-align: right;\">\n",
              "      <th></th>\n",
              "      <th>dias_afastamento</th>\n",
              "      <th>idade</th>\n",
              "      <th>tempo_serv</th>\n",
              "      <th>lotacao_sede</th>\n",
              "      <th>lotacao_zona</th>\n",
              "      <th>nivel_INTERMEDIÁRIO</th>\n",
              "      <th>nivel_SUPERIOR</th>\n",
              "      <th>cargo_ANALISTA JUDICIARIO</th>\n",
              "      <th>cargo_TECNICO JUDICIARIO</th>\n",
              "      <th>area_ADMINISTRATIVA</th>\n",
              "      <th>...</th>\n",
              "      <th>raca_cor_5</th>\n",
              "      <th>raca_cor_6</th>\n",
              "      <th>defic_1</th>\n",
              "      <th>defic_2</th>\n",
              "      <th>defic_3</th>\n",
              "      <th>defic_5</th>\n",
              "      <th>defic_8</th>\n",
              "      <th>cotas_1</th>\n",
              "      <th>cotas_3</th>\n",
              "      <th>classe</th>\n",
              "    </tr>\n",
              "  </thead>\n",
              "  <tbody>\n",
              "    <tr>\n",
              "      <th>0</th>\n",
              "      <td>2</td>\n",
              "      <td>46.0</td>\n",
              "      <td>18.0</td>\n",
              "      <td>1</td>\n",
              "      <td>0</td>\n",
              "      <td>0</td>\n",
              "      <td>1</td>\n",
              "      <td>1</td>\n",
              "      <td>0</td>\n",
              "      <td>1</td>\n",
              "      <td>...</td>\n",
              "      <td>0</td>\n",
              "      <td>0</td>\n",
              "      <td>0</td>\n",
              "      <td>0</td>\n",
              "      <td>0</td>\n",
              "      <td>0</td>\n",
              "      <td>1</td>\n",
              "      <td>1</td>\n",
              "      <td>0</td>\n",
              "      <td>0</td>\n",
              "    </tr>\n",
              "    <tr>\n",
              "      <th>1</th>\n",
              "      <td>15</td>\n",
              "      <td>46.0</td>\n",
              "      <td>18.0</td>\n",
              "      <td>1</td>\n",
              "      <td>0</td>\n",
              "      <td>0</td>\n",
              "      <td>1</td>\n",
              "      <td>1</td>\n",
              "      <td>0</td>\n",
              "      <td>1</td>\n",
              "      <td>...</td>\n",
              "      <td>0</td>\n",
              "      <td>0</td>\n",
              "      <td>0</td>\n",
              "      <td>0</td>\n",
              "      <td>0</td>\n",
              "      <td>0</td>\n",
              "      <td>1</td>\n",
              "      <td>1</td>\n",
              "      <td>0</td>\n",
              "      <td>1</td>\n",
              "    </tr>\n",
              "    <tr>\n",
              "      <th>2</th>\n",
              "      <td>2</td>\n",
              "      <td>46.0</td>\n",
              "      <td>18.0</td>\n",
              "      <td>1</td>\n",
              "      <td>0</td>\n",
              "      <td>0</td>\n",
              "      <td>1</td>\n",
              "      <td>1</td>\n",
              "      <td>0</td>\n",
              "      <td>1</td>\n",
              "      <td>...</td>\n",
              "      <td>0</td>\n",
              "      <td>0</td>\n",
              "      <td>0</td>\n",
              "      <td>0</td>\n",
              "      <td>0</td>\n",
              "      <td>0</td>\n",
              "      <td>1</td>\n",
              "      <td>1</td>\n",
              "      <td>0</td>\n",
              "      <td>0</td>\n",
              "    </tr>\n",
              "    <tr>\n",
              "      <th>3</th>\n",
              "      <td>2</td>\n",
              "      <td>46.0</td>\n",
              "      <td>18.0</td>\n",
              "      <td>1</td>\n",
              "      <td>0</td>\n",
              "      <td>0</td>\n",
              "      <td>1</td>\n",
              "      <td>1</td>\n",
              "      <td>0</td>\n",
              "      <td>1</td>\n",
              "      <td>...</td>\n",
              "      <td>0</td>\n",
              "      <td>0</td>\n",
              "      <td>0</td>\n",
              "      <td>0</td>\n",
              "      <td>0</td>\n",
              "      <td>0</td>\n",
              "      <td>1</td>\n",
              "      <td>1</td>\n",
              "      <td>0</td>\n",
              "      <td>0</td>\n",
              "    </tr>\n",
              "    <tr>\n",
              "      <th>4</th>\n",
              "      <td>7</td>\n",
              "      <td>46.0</td>\n",
              "      <td>18.0</td>\n",
              "      <td>1</td>\n",
              "      <td>0</td>\n",
              "      <td>0</td>\n",
              "      <td>1</td>\n",
              "      <td>1</td>\n",
              "      <td>0</td>\n",
              "      <td>1</td>\n",
              "      <td>...</td>\n",
              "      <td>0</td>\n",
              "      <td>0</td>\n",
              "      <td>0</td>\n",
              "      <td>0</td>\n",
              "      <td>0</td>\n",
              "      <td>0</td>\n",
              "      <td>1</td>\n",
              "      <td>1</td>\n",
              "      <td>0</td>\n",
              "      <td>1</td>\n",
              "    </tr>\n",
              "  </tbody>\n",
              "</table>\n",
              "<p>5 rows × 65 columns</p>\n",
              "</div>\n",
              "    <div class=\"colab-df-buttons\">\n",
              "\n",
              "  <div class=\"colab-df-container\">\n",
              "    <button class=\"colab-df-convert\" onclick=\"convertToInteractive('df-bb8c180a-3f21-4650-9fb6-d35b47ed193f')\"\n",
              "            title=\"Convert this dataframe to an interactive table.\"\n",
              "            style=\"display:none;\">\n",
              "\n",
              "  <svg xmlns=\"http://www.w3.org/2000/svg\" height=\"24px\" viewBox=\"0 -960 960 960\">\n",
              "    <path d=\"M120-120v-720h720v720H120Zm60-500h600v-160H180v160Zm220 220h160v-160H400v160Zm0 220h160v-160H400v160ZM180-400h160v-160H180v160Zm440 0h160v-160H620v160ZM180-180h160v-160H180v160Zm440 0h160v-160H620v160Z\"/>\n",
              "  </svg>\n",
              "    </button>\n",
              "\n",
              "  <style>\n",
              "    .colab-df-container {\n",
              "      display:flex;\n",
              "      gap: 12px;\n",
              "    }\n",
              "\n",
              "    .colab-df-convert {\n",
              "      background-color: #E8F0FE;\n",
              "      border: none;\n",
              "      border-radius: 50%;\n",
              "      cursor: pointer;\n",
              "      display: none;\n",
              "      fill: #1967D2;\n",
              "      height: 32px;\n",
              "      padding: 0 0 0 0;\n",
              "      width: 32px;\n",
              "    }\n",
              "\n",
              "    .colab-df-convert:hover {\n",
              "      background-color: #E2EBFA;\n",
              "      box-shadow: 0px 1px 2px rgba(60, 64, 67, 0.3), 0px 1px 3px 1px rgba(60, 64, 67, 0.15);\n",
              "      fill: #174EA6;\n",
              "    }\n",
              "\n",
              "    .colab-df-buttons div {\n",
              "      margin-bottom: 4px;\n",
              "    }\n",
              "\n",
              "    [theme=dark] .colab-df-convert {\n",
              "      background-color: #3B4455;\n",
              "      fill: #D2E3FC;\n",
              "    }\n",
              "\n",
              "    [theme=dark] .colab-df-convert:hover {\n",
              "      background-color: #434B5C;\n",
              "      box-shadow: 0px 1px 3px 1px rgba(0, 0, 0, 0.15);\n",
              "      filter: drop-shadow(0px 1px 2px rgba(0, 0, 0, 0.3));\n",
              "      fill: #FFFFFF;\n",
              "    }\n",
              "  </style>\n",
              "\n",
              "    <script>\n",
              "      const buttonEl =\n",
              "        document.querySelector('#df-bb8c180a-3f21-4650-9fb6-d35b47ed193f button.colab-df-convert');\n",
              "      buttonEl.style.display =\n",
              "        google.colab.kernel.accessAllowed ? 'block' : 'none';\n",
              "\n",
              "      async function convertToInteractive(key) {\n",
              "        const element = document.querySelector('#df-bb8c180a-3f21-4650-9fb6-d35b47ed193f');\n",
              "        const dataTable =\n",
              "          await google.colab.kernel.invokeFunction('convertToInteractive',\n",
              "                                                    [key], {});\n",
              "        if (!dataTable) return;\n",
              "\n",
              "        const docLinkHtml = 'Like what you see? Visit the ' +\n",
              "          '<a target=\"_blank\" href=https://colab.research.google.com/notebooks/data_table.ipynb>data table notebook</a>'\n",
              "          + ' to learn more about interactive tables.';\n",
              "        element.innerHTML = '';\n",
              "        dataTable['output_type'] = 'display_data';\n",
              "        await google.colab.output.renderOutput(dataTable, element);\n",
              "        const docLink = document.createElement('div');\n",
              "        docLink.innerHTML = docLinkHtml;\n",
              "        element.appendChild(docLink);\n",
              "      }\n",
              "    </script>\n",
              "  </div>\n",
              "\n",
              "\n",
              "<div id=\"df-dfb01fce-4d2d-408d-ae33-3adf517458b3\">\n",
              "  <button class=\"colab-df-quickchart\" onclick=\"quickchart('df-dfb01fce-4d2d-408d-ae33-3adf517458b3')\"\n",
              "            title=\"Suggest charts\"\n",
              "            style=\"display:none;\">\n",
              "\n",
              "<svg xmlns=\"http://www.w3.org/2000/svg\" height=\"24px\"viewBox=\"0 0 24 24\"\n",
              "     width=\"24px\">\n",
              "    <g>\n",
              "        <path d=\"M19 3H5c-1.1 0-2 .9-2 2v14c0 1.1.9 2 2 2h14c1.1 0 2-.9 2-2V5c0-1.1-.9-2-2-2zM9 17H7v-7h2v7zm4 0h-2V7h2v10zm4 0h-2v-4h2v4z\"/>\n",
              "    </g>\n",
              "</svg>\n",
              "  </button>\n",
              "\n",
              "<style>\n",
              "  .colab-df-quickchart {\n",
              "      --bg-color: #E8F0FE;\n",
              "      --fill-color: #1967D2;\n",
              "      --hover-bg-color: #E2EBFA;\n",
              "      --hover-fill-color: #174EA6;\n",
              "      --disabled-fill-color: #AAA;\n",
              "      --disabled-bg-color: #DDD;\n",
              "  }\n",
              "\n",
              "  [theme=dark] .colab-df-quickchart {\n",
              "      --bg-color: #3B4455;\n",
              "      --fill-color: #D2E3FC;\n",
              "      --hover-bg-color: #434B5C;\n",
              "      --hover-fill-color: #FFFFFF;\n",
              "      --disabled-bg-color: #3B4455;\n",
              "      --disabled-fill-color: #666;\n",
              "  }\n",
              "\n",
              "  .colab-df-quickchart {\n",
              "    background-color: var(--bg-color);\n",
              "    border: none;\n",
              "    border-radius: 50%;\n",
              "    cursor: pointer;\n",
              "    display: none;\n",
              "    fill: var(--fill-color);\n",
              "    height: 32px;\n",
              "    padding: 0;\n",
              "    width: 32px;\n",
              "  }\n",
              "\n",
              "  .colab-df-quickchart:hover {\n",
              "    background-color: var(--hover-bg-color);\n",
              "    box-shadow: 0 1px 2px rgba(60, 64, 67, 0.3), 0 1px 3px 1px rgba(60, 64, 67, 0.15);\n",
              "    fill: var(--button-hover-fill-color);\n",
              "  }\n",
              "\n",
              "  .colab-df-quickchart-complete:disabled,\n",
              "  .colab-df-quickchart-complete:disabled:hover {\n",
              "    background-color: var(--disabled-bg-color);\n",
              "    fill: var(--disabled-fill-color);\n",
              "    box-shadow: none;\n",
              "  }\n",
              "\n",
              "  .colab-df-spinner {\n",
              "    border: 2px solid var(--fill-color);\n",
              "    border-color: transparent;\n",
              "    border-bottom-color: var(--fill-color);\n",
              "    animation:\n",
              "      spin 1s steps(1) infinite;\n",
              "  }\n",
              "\n",
              "  @keyframes spin {\n",
              "    0% {\n",
              "      border-color: transparent;\n",
              "      border-bottom-color: var(--fill-color);\n",
              "      border-left-color: var(--fill-color);\n",
              "    }\n",
              "    20% {\n",
              "      border-color: transparent;\n",
              "      border-left-color: var(--fill-color);\n",
              "      border-top-color: var(--fill-color);\n",
              "    }\n",
              "    30% {\n",
              "      border-color: transparent;\n",
              "      border-left-color: var(--fill-color);\n",
              "      border-top-color: var(--fill-color);\n",
              "      border-right-color: var(--fill-color);\n",
              "    }\n",
              "    40% {\n",
              "      border-color: transparent;\n",
              "      border-right-color: var(--fill-color);\n",
              "      border-top-color: var(--fill-color);\n",
              "    }\n",
              "    60% {\n",
              "      border-color: transparent;\n",
              "      border-right-color: var(--fill-color);\n",
              "    }\n",
              "    80% {\n",
              "      border-color: transparent;\n",
              "      border-right-color: var(--fill-color);\n",
              "      border-bottom-color: var(--fill-color);\n",
              "    }\n",
              "    90% {\n",
              "      border-color: transparent;\n",
              "      border-bottom-color: var(--fill-color);\n",
              "    }\n",
              "  }\n",
              "</style>\n",
              "\n",
              "  <script>\n",
              "    async function quickchart(key) {\n",
              "      const quickchartButtonEl =\n",
              "        document.querySelector('#' + key + ' button');\n",
              "      quickchartButtonEl.disabled = true;  // To prevent multiple clicks.\n",
              "      quickchartButtonEl.classList.add('colab-df-spinner');\n",
              "      try {\n",
              "        const charts = await google.colab.kernel.invokeFunction(\n",
              "            'suggestCharts', [key], {});\n",
              "      } catch (error) {\n",
              "        console.error('Error during call to suggestCharts:', error);\n",
              "      }\n",
              "      quickchartButtonEl.classList.remove('colab-df-spinner');\n",
              "      quickchartButtonEl.classList.add('colab-df-quickchart-complete');\n",
              "    }\n",
              "    (() => {\n",
              "      let quickchartButtonEl =\n",
              "        document.querySelector('#df-dfb01fce-4d2d-408d-ae33-3adf517458b3 button');\n",
              "      quickchartButtonEl.style.display =\n",
              "        google.colab.kernel.accessAllowed ? 'block' : 'none';\n",
              "    })();\n",
              "  </script>\n",
              "</div>\n",
              "\n",
              "    </div>\n",
              "  </div>\n"
            ],
            "application/vnd.google.colaboratory.intrinsic+json": {
              "type": "dataframe",
              "variable_name": "df"
            }
          },
          "metadata": {},
          "execution_count": 1
        }
      ]
    },
    {
      "cell_type": "code",
      "source": [
        "from sklearn.preprocessing import StandardScaler\n"
      ],
      "metadata": {
        "id": "9AzuXQq8KlZ6"
      },
      "execution_count": 2,
      "outputs": []
    },
    {
      "cell_type": "markdown",
      "source": [
        "#Análise Usando MLP"
      ],
      "metadata": {
        "id": "rGTVxMtZNMJS"
      }
    },
    {
      "cell_type": "markdown",
      "source": [
        "Importando as bibliotecas"
      ],
      "metadata": {
        "id": "4w6DbJuyM34w"
      }
    },
    {
      "cell_type": "code",
      "source": [
        "import numpy as np\n",
        "import matplotlib.pyplot as plt\n",
        "from sklearn.model_selection import train_test_split, GridSearchCV\n",
        "from sklearn.neural_network import MLPClassifier\n",
        "from sklearn.metrics import classification_report, confusion_matrix\n",
        "from sklearn.preprocessing import StandardScaler"
      ],
      "metadata": {
        "id": "x-Pfw6O4NOp6"
      },
      "execution_count": null,
      "outputs": []
    },
    {
      "cell_type": "markdown",
      "source": [
        "Carregando os dados"
      ],
      "metadata": {
        "id": "E1gYoZLZNQpb"
      }
    },
    {
      "cell_type": "code",
      "source": [
        "data = df.copy()\n",
        "dropar = ['dias_afastamento']\n",
        "data = data.drop(dropar, axis=1)"
      ],
      "metadata": {
        "id": "IGQDQiTqNTRQ"
      },
      "execution_count": null,
      "outputs": []
    },
    {
      "cell_type": "markdown",
      "source": [
        "Isolando a Classe"
      ],
      "metadata": {
        "id": "hOcd5dy9NYj9"
      }
    },
    {
      "cell_type": "code",
      "source": [
        "X = data.drop('classe', axis=1)\n",
        "y = data['classe']"
      ],
      "metadata": {
        "id": "F_DfovaYNbgi"
      },
      "execution_count": null,
      "outputs": []
    },
    {
      "cell_type": "markdown",
      "source": [
        "Dividir os dados em conjuntos de treinamento e teste"
      ],
      "metadata": {
        "id": "HXt-gSA7NpeS"
      }
    },
    {
      "cell_type": "code",
      "source": [
        "X_train, X_test, y_train, y_test = train_test_split(X, y, test_size=0.2, random_state=42)"
      ],
      "metadata": {
        "id": "1cNu7_gMNuiT"
      },
      "execution_count": null,
      "outputs": []
    },
    {
      "cell_type": "markdown",
      "source": [
        "Configurando a MLP com no máximo 1000 iterações"
      ],
      "metadata": {
        "id": "iggoca8aPv3C"
      }
    },
    {
      "cell_type": "code",
      "source": [
        "mlp = MLPClassifier(max_iter=1000)"
      ],
      "metadata": {
        "id": "jLIrD21zP1Q_"
      },
      "execution_count": null,
      "outputs": []
    },
    {
      "cell_type": "markdown",
      "source": [
        "Definir os parâmetros para um GridSearch\n",
        "\n",
        "1. Configuração diferente para as camadas ocultas (hidden_layer_sizes):\n",
        "  - (50,): Uma única camada oculta com 50 neurônios.\n",
        "  - (100,): Uma única camada oculta com 100 neurônios.\n",
        "  - (50, 50): Duas camadas ocultas, cada uma com 50 neurônios.\n",
        "\n",
        "2. Função de ativação a ser usada nas camadas ocultas\n",
        "(activation):\n",
        "  - 'tanh': Função tangente hiperbólica.\n",
        "  - 'relu': Função ReLU (Rectified Linear Unit)\n",
        "\n",
        "3. Algoritmo de otimização a ser usado para treinar a rede neural ajustando os pesos da rede para minimizar a função de perda (solver)\n",
        "  - 'adam': Algoritmo Adam (Adaptive Moment Estimation).\n",
        "  - 'sgd': Algoritmo SGD (Stochastic Gradient Descent).\n",
        "\n",
        "4. Parâmetro de regularização L2 (alpha).\n",
        "  - 0.0001: Regularização muito fraca.\n",
        "  - 0.001: Regularização moderada.\n",
        "  - 0.01: Regularização mais forte.\n",
        "\n",
        "5. Estratégia de taxa de aprendizado(learning_rate).\n",
        "  - 'constant': A taxa de aprendizado permanece constante durante todo o treinamento.\n",
        "  - 'adaptive': A taxa de aprendizado se adapta durante o treinamento, diminuindo à medida que o modelo converge."
      ],
      "metadata": {
        "id": "-7AfRF8GP5nX"
      }
    },
    {
      "cell_type": "code",
      "source": [
        "param_grid = {\n",
        "    'hidden_layer_sizes': [(50,), (100,), (50, 50)],\n",
        "    'activation': ['tanh', 'relu'],\n",
        "    'solver': ['adam', 'sgd'],\n",
        "    'alpha': [0.0001, 0.001, 0.01],\n",
        "    'learning_rate': ['constant', 'adaptive']\n",
        "}"
      ],
      "metadata": {
        "id": "VsG5IdYlP9xX"
      },
      "execution_count": null,
      "outputs": []
    },
    {
      "cell_type": "markdown",
      "source": [
        "Roda o GridSearch usando '*best_params_*' para  criar um dicionário com a melhor combinação de hiperparâmetros"
      ],
      "metadata": {
        "id": "4TvfzgDtUGIK"
      }
    },
    {
      "cell_type": "code",
      "source": [
        "grid_search = GridSearchCV(mlp, param_grid, cv=5, scoring='f1_macro', n_jobs=-1)\n",
        "grid_search.fit(X_train, y_train)\n",
        "\n",
        "print(f\"Melhores parâmetros: {grid_search.best_params_}\")"
      ],
      "metadata": {
        "id": "Bvor4ADkVCeR"
      },
      "execution_count": null,
      "outputs": []
    },
    {
      "cell_type": "markdown",
      "source": [
        "Avaliando o modelo com os melhores parâmetros encontrados na Grid Search"
      ],
      "metadata": {
        "id": "EDsHijCZVXDO"
      }
    },
    {
      "cell_type": "code",
      "source": [
        "best_model = grid_search.best_estimator_\n",
        "y_pred = best_model.predict(X_test)"
      ],
      "metadata": {
        "id": "MQZ-HEx7VkRv"
      },
      "execution_count": null,
      "outputs": []
    },
    {
      "cell_type": "markdown",
      "source": [
        "Imprimindo resultados"
      ],
      "metadata": {
        "id": "O_fo4Q78Vtew"
      }
    },
    {
      "cell_type": "code",
      "source": [
        "\n",
        "# Impressão do relatório de classificação\n",
        "print(classification_report(y_test, y_pred))\n",
        "\n",
        "# Matriz de confusão\n",
        "conf_matrix = confusion_matrix(y_test, y_pred)\n",
        "\n",
        "# Plotar a matriz de confusão\n",
        "plt.figure(figsize=(8, 6))\n",
        "plt.imshow(conf_matrix, interpolation='nearest', cmap=plt.cm.Blues)\n",
        "plt.title('Matriz de Confusão')\n",
        "plt.colorbar()\n",
        "tick_marks = np.arange(len(np.unique(y)))\n",
        "plt.xticks(tick_marks, np.unique(y), rotation=45)\n",
        "plt.yticks(tick_marks, np.unique(y))\n",
        "plt.xlabel('Classe Previsão')\n",
        "plt.ylabel('Classe Verdadeira')\n",
        "plt.tight_layout()\n",
        "plt.show()\n",
        "\n",
        "# Gráfico das métricas principais\n",
        "metrics = ['precision', 'recall', 'f1-score']\n",
        "scores = {\n",
        "    'precision': [],\n",
        "    'recall': [],\n",
        "    'f1-score': []\n",
        "}\n",
        "\n",
        "for metric in metrics:\n",
        "    scores[metric] = classification_report(y_test, y_pred, output_dict=True)['weighted avg'][metric]\n",
        "\n",
        "# Plotar as métricas\n",
        "plt.figure(figsize=(10, 6))\n",
        "plt.bar(scores.keys(), scores.values(), color=['blue', 'orange', 'green'])\n",
        "plt.title('Métricas do Modelo MLP')\n",
        "plt.xlabel('Métricas')\n",
        "plt.ylabel('Valores')\n",
        "plt.ylim(0, 1)\n",
        "plt.show()"
      ],
      "metadata": {
        "colab": {
          "base_uri": "https://localhost:8080/",
          "height": 1000
        },
        "id": "wfrG-lN0LAbj",
        "outputId": "9440cdd0-9839-4d9b-9a9d-6d7a482e0649"
      },
      "execution_count": null,
      "outputs": [
        {
          "output_type": "stream",
          "name": "stdout",
          "text": [
            "Melhores parâmetros: {'activation': 'tanh', 'alpha': 0.0001, 'hidden_layer_sizes': (50, 50), 'learning_rate': 'constant', 'solver': 'adam'}\n",
            "              precision    recall  f1-score   support\n",
            "\n",
            "           0       0.75      0.93      0.83       873\n",
            "           1       0.58      0.23      0.33       349\n",
            "\n",
            "    accuracy                           0.73      1222\n",
            "   macro avg       0.67      0.58      0.58      1222\n",
            "weighted avg       0.70      0.73      0.69      1222\n",
            "\n"
          ]
        },
        {
          "output_type": "display_data",
          "data": {
            "text/plain": [
              "<Figure size 800x600 with 2 Axes>"
            ],
            "image/png": "[encoded data removed]"
          },
          "metadata": {}
        },
        {
          "output_type": "display_data",
          "data": {
            "text/plain": [
              "<Figure size 1000x600 with 1 Axes>"
            ],
            "image/png": "[encoded data removed]"
          },
          "metadata": {}
        }
      ]
    },
    {
      "cell_type": "markdown",
      "source": [
        "#Análise usando LSTM"
      ],
      "metadata": {
        "id": "yUXd_lFvOXMJ"
      }
    },
    {
      "cell_type": "markdown",
      "source": [
        "Importando as bibliotecas"
      ],
      "metadata": {
        "id": "vmh-Bp1eDqnf"
      }
    },
    {
      "cell_type": "code",
      "source": [
        "import numpy as np\n",
        "import pandas as pd\n",
        "import matplotlib.pyplot as plt\n",
        "from sklearn.model_selection import train_test_split\n",
        "from sklearn.preprocessing import StandardScaler\n",
        "import torch\n",
        "import torch.nn as nn\n",
        "import torch.optim as optim\n",
        "from sklearn.metrics import classification_report, confusion_matrix"
      ],
      "metadata": {
        "id": "6zV4OemWDuRw"
      },
      "execution_count": 3,
      "outputs": []
    },
    {
      "cell_type": "markdown",
      "source": [
        "Carregando os dados"
      ],
      "metadata": {
        "id": "6kGeNHGoD2Vu"
      }
    },
    {
      "cell_type": "code",
      "source": [
        "data = df.copy()\n",
        "dropar = ['dias_afastamento']\n",
        "data = data.drop(dropar, axis=1)"
      ],
      "metadata": {
        "id": "RqrxweGuD4QF"
      },
      "execution_count": 4,
      "outputs": []
    },
    {
      "cell_type": "markdown",
      "source": [
        "Isolando a Classe"
      ],
      "metadata": {
        "id": "fXpC2RikEFcm"
      }
    },
    {
      "cell_type": "code",
      "source": [
        "X = data.drop('classe', axis=1).values\n",
        "y = data['classe'].values"
      ],
      "metadata": {
        "id": "eOr6QkPREIce"
      },
      "execution_count": 5,
      "outputs": []
    },
    {
      "cell_type": "markdown",
      "source": [
        "Padronizando os dados para terem média 0 e desvio padrão 1"
      ],
      "metadata": {
        "id": "xnYzFEdKEfAp"
      }
    },
    {
      "cell_type": "code",
      "source": [
        "scaler = StandardScaler()\n",
        "X_scaled = scaler.fit_transform(X)"
      ],
      "metadata": {
        "id": "ok171ERNEk7B"
      },
      "execution_count": 6,
      "outputs": []
    },
    {
      "cell_type": "markdown",
      "source": [
        "Dividindo os dados em conjuntos de treinamento e teste com 80% para treino e 20% para teste"
      ],
      "metadata": {
        "id": "pyU-8NFnEn1o"
      }
    },
    {
      "cell_type": "code",
      "source": [
        "X_train, X_test, y_train, y_test = train_test_split(X_scaled, y, test_size=0.2, random_state=42)"
      ],
      "metadata": {
        "id": "VtP8VB3BE4w5"
      },
      "execution_count": 7,
      "outputs": []
    },
    {
      "cell_type": "markdown",
      "source": [
        "Remodelando os dados de treinamento e teste para 3D (n_samples, timesteps, n_features) para uso da LSTM, onde n_samples é o tamanho da amostra, n_features é a qantidade de features e timesteps é 1 porque cada amostra representa um único \"instante\" com características do servidor"
      ],
      "metadata": {
        "id": "yhlRZSTwGqf5"
      }
    },
    {
      "cell_type": "code",
      "source": [
        "X_train = X_train.reshape((X_train.shape[0], 1, X_train.shape[1]))\n",
        "X_test = X_test.reshape((X_test.shape[0], 1, X_test.shape[1]))"
      ],
      "metadata": {
        "id": "RpbVZgMFHkdW"
      },
      "execution_count": null,
      "outputs": []
    },
    {
      "cell_type": "markdown",
      "source": [
        "Convertendo dados NumPy para tensores PyTorch"
      ],
      "metadata": {
        "id": "UO219X5rIRIt"
      }
    },
    {
      "cell_type": "code",
      "source": [
        "X_train_tensor = torch.FloatTensor(X_train)\n",
        "X_test_tensor = torch.FloatTensor(X_test)\n",
        "y_train_tensor = torch.LongTensor(y_train)\n",
        "y_test_tensor = torch.LongTensor(y_test)"
      ],
      "metadata": {
        "id": "Xo06h84FIVzF"
      },
      "execution_count": null,
      "outputs": []
    },
    {
      "cell_type": "markdown",
      "source": [
        "Criando o Modelo LSTM com uma camada LSTM seguida por uma camada totalmente conectada"
      ],
      "metadata": {
        "id": "EfK95PO8It0s"
      }
    },
    {
      "cell_type": "code",
      "source": [
        "class LSTMModel(nn.Module):\n",
        "    def __init__(self, input_size, hidden_size, output_size):\n",
        "        super(LSTMModel, self).__init__()\n",
        "        self.lstm = nn.LSTM(input_size, hidden_size, batch_first=True)\n",
        "        self.fc = nn.Linear(hidden_size, output_size)\n",
        "\n",
        "    def forward(self, x):\n",
        "        out, _ = self.lstm(x)\n",
        "        out = self.fc(out[:, -1, :])  # Pega a saída do último timestep\n",
        "        return out"
      ],
      "metadata": {
        "id": "e8a4IU1TKTI3"
      },
      "execution_count": null,
      "outputs": []
    },
    {
      "cell_type": "markdown",
      "source": [
        "Definindo os hiperparâmetros que serão usados:\n",
        "  - input_size = X_train.shape[2]\n",
        "    - acessa o terceiro elemento da tupla X_train.shape, que corresponde ao número de features e atribui à variável input_size que definirá a dimensão da entrada da camada LSTM no modelo\n",
        "  - hidden_size = 64\n",
        "    - significa que a camada LSTM terá 64 unidades (neurônios) ocultas\n",
        "  - output_size = len(np.unique(y))\n",
        "    - Atribui o número de classes à variável output_size. Nesse caso, 2 classes\n",
        "  - num_epochs = 50\n",
        "    - Define que o modelo será treinado passando pelo conjunto de dados de treinamento 50 vezes\n",
        "  - batch_size = 32\n",
        "    - Define que o modelo será treinado usando lotes de 32 amostras de dados de cada vez.\n",
        "  - learning_rate = 0.001\n",
        "    - Define que o tamanho dos passos que o otimizador dará na direção do mínimo da função de perda será de 0,001\n"
      ],
      "metadata": {
        "id": "67qkrHCjKVxy"
      }
    },
    {
      "cell_type": "code",
      "source": [
        "# Hiperparâmetros\n",
        "input_size = X_train.shape[2]\n",
        "hidden_size = 64\n",
        "output_size = len(np.unique(y))  # Número de classes\n",
        "num_epochs = 50\n",
        "batch_size = 32\n",
        "learning_rate = 0.001"
      ],
      "metadata": {
        "id": "HycxJeJGMrAK"
      },
      "execution_count": null,
      "outputs": []
    },
    {
      "cell_type": "markdown",
      "source": [
        "Instanciando o modelo, escolhendo uma função de perda e selecionando um otimizador para atualizar os pesos do modelo durante o treinamento"
      ],
      "metadata": {
        "id": "XfrEJY6kMut8"
      }
    },
    {
      "cell_type": "code",
      "source": [
        "model = LSTMModel(input_size, hidden_size, output_size)\n",
        "criterion = nn.CrossEntropyLoss()\n",
        "optimizer = optim.Adam(model.parameters(), lr=learning_rate)"
      ],
      "metadata": {
        "id": "anJ0lp3QMttp"
      },
      "execution_count": null,
      "outputs": []
    },
    {
      "cell_type": "markdown",
      "source": [
        "Treinar o modelo"
      ],
      "metadata": {
        "id": "aPgUXuycNsGm"
      }
    },
    {
      "cell_type": "code",
      "source": [
        "for epoch in range(num_epochs):\n",
        "    model.train()\n",
        "    optimizer.zero_grad()\n",
        "    outputs = model(X_train_tensor)\n",
        "    loss = criterion(outputs, y_train_tensor)\n",
        "    loss.backward()\n",
        "    optimizer.step()\n",
        "\n",
        "    if (epoch + 1) % 10 == 0:\n",
        "        print(f'Época [{epoch + 1}/{num_epochs}], Perda: {loss.item():.4f}')"
      ],
      "metadata": {
        "id": "9eHLa__qONos"
      },
      "execution_count": null,
      "outputs": []
    },
    {
      "cell_type": "markdown",
      "source": [
        "Avalia o modelo em um conjunto de dados separado (o conjunto de teste) usando context manager do PyTorch"
      ],
      "metadata": {
        "id": "rm9Cr8YyOPjs"
      }
    },
    {
      "cell_type": "code",
      "source": [
        "model.eval()\n",
        "with torch.no_grad():\n",
        "    y_pred = model(X_test_tensor)\n",
        "    _, y_pred_classes = torch.max(y_pred, 1)"
      ],
      "metadata": {
        "id": "3HOGjMLyZdxk"
      },
      "execution_count": null,
      "outputs": []
    },
    {
      "cell_type": "markdown",
      "source": [
        "Imprime relatórios e métricas"
      ],
      "metadata": {
        "id": "o1BDm9sKZi2T"
      }
    },
    {
      "cell_type": "code",
      "source": [
        "# Relatório de classificação\n",
        "print(classification_report(y_test_tensor.numpy(), y_pred_classes.numpy()))\n",
        "\n",
        "# Matriz de confusão\n",
        "conf_matrix = confusion_matrix(y_test_tensor.numpy(), y_pred_classes.numpy())\n",
        "\n",
        "# Plotar a matriz de confusão\n",
        "plt.figure(figsize=(8, 6))\n",
        "plt.imshow(conf_matrix, interpolation='nearest', cmap=plt.cm.Blues)\n",
        "plt.title('Matriz de Confusão')\n",
        "plt.colorbar()\n",
        "tick_marks = np.arange(len(np.unique(y)))\n",
        "plt.xticks(tick_marks, np.unique(y), rotation=45)\n",
        "plt.yticks(tick_marks, np.unique(y))\n",
        "plt.xlabel('Classe Previsão')\n",
        "plt.ylabel('Classe Verdadeira')\n",
        "plt.tight_layout()\n",
        "plt.show()\n",
        "\n"
      ],
      "metadata": {
        "colab": {
          "base_uri": "https://localhost:8080/",
          "height": 850
        },
        "id": "zRccaP24QWPb",
        "outputId": "eb249df9-31ae-4010-c3e4-ec135c9e94e3"
      },
      "execution_count": null,
      "outputs": [
        {
          "output_type": "stream",
          "name": "stdout",
          "text": [
            "Época [10/50], Perda: 0.6622\n",
            "Época [20/50], Perda: 0.6318\n",
            "Época [30/50], Perda: 0.6007\n",
            "Época [40/50], Perda: 0.5742\n",
            "Época [50/50], Perda: 0.5582\n",
            "              precision    recall  f1-score   support\n",
            "\n",
            "           0       0.73      0.98      0.84       873\n",
            "           1       0.71      0.11      0.19       349\n",
            "\n",
            "    accuracy                           0.73      1222\n",
            "   macro avg       0.72      0.55      0.52      1222\n",
            "weighted avg       0.73      0.73      0.66      1222\n",
            "\n"
          ]
        },
        {
          "output_type": "display_data",
          "data": {
            "text/plain": [
              "<Figure size 800x600 with 2 Axes>"
            ],
            "image/png": "[encoded data removed]"
          },
          "metadata": {}
        }
      ]
    },
    {
      "cell_type": "markdown",
      "source": [
        "# Conclusão\n",
        "\n",
        "Ambos os modelos mostraram dificuldade em prever a classe '1' (afastamentos a partir de 3 dias), como evidenciado pelo baixo recall e f1-score. Isso pode ser atribuído a diversos fatores, incluindo um desbalanceamento nas classes (a classe '0' é mais representativa) ou à complexidade inerente da previsão de afastamentos de saúde, que podem ser influenciados por uma gama vasta e interconectada de variáveis."
      ],
      "metadata": {
        "id": "Sh0JI-Wabnm-"
      }
    },
    {
      "cell_type": "markdown",
      "source": [],
      "metadata": {
        "id": "EkoJHfBYcB92"
      }
    }
  ],
  "metadata": {
    "colab": {
      "provenance": [],
      "gpuType": "T4"
    },
    "kernelspec": {
      "display_name": "Python 3",
      "name": "python3"
    },
    "language_info": {
      "name": "python"
    },
    "accelerator": "GPU"
  },
  "nbformat": 4,
  "nbformat_minor": 0
}
